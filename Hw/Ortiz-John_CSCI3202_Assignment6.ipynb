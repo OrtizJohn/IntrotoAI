{
 "cells": [
  {
   "cell_type": "markdown",
   "metadata": {},
   "source": [
    "Before you turn this problem in, make sure everything runs as expected. First, **restart the kernel** (in the menubar, select Kernel$\\rightarrow$Restart) and then **run all cells** (in the menubar, select Cell$\\rightarrow$Run All).\n",
    "\n",
    "Make sure you fill in any place that says `YOUR CODE HERE` or \"YOUR ANSWER HERE\", as well as your name and collaborators below:"
   ]
  },
  {
   "cell_type": "code",
   "execution_count": 1,
   "metadata": {},
   "outputs": [],
   "source": [
    "NAME = \"John Ortiz\"\n",
    "COLLABORATORS = \"\""
   ]
  },
  {
   "cell_type": "markdown",
   "metadata": {},
   "source": [
    "---"
   ]
  },
  {
   "cell_type": "markdown",
   "metadata": {
    "deletable": false,
    "editable": false,
    "nbgrader": {
     "cell_type": "markdown",
     "checksum": "fd0b74e7cf7357523d188db9246e0775",
     "grade": false,
     "grade_id": "header",
     "locked": true,
     "schema_version": 3,
     "solution": false,
     "task": false
    }
   },
   "source": [
    "<a id='top'></a>\n",
    "\n",
    "# CSCI 3202, S21 Assignment 6\n",
    "\n",
    "Shortcuts:  [top](#top) - [1](#p1) | [1a](#p1a) | [1b](#p1b) | [1c](#p1c) | [1d](#p1d) - [2](#p2) | [2a](#p2a) | [2b](#p2b) | [2c](#p2c) | [2d](#p2d) | [2e](#p2e)"
   ]
  },
  {
   "cell_type": "markdown",
   "metadata": {
    "deletable": false,
    "editable": false,
    "nbgrader": {
     "cell_type": "markdown",
     "checksum": "71cb0754060bc99b0a010c31929fa92a",
     "grade": false,
     "grade_id": "assignment-overview",
     "locked": true,
     "schema_version": 3,
     "solution": false,
     "task": false
    }
   },
   "source": [
    "# Assignment Overview\n",
    "\n",
    "This assignment will ask you to implement a Bayesian Network. Problem 1 focuses on modeling heart disease, while Problem 2 models a decision making process.\n",
    "\n",
    "Here's a summary of the tasks required and the associated points:\n",
    "\n",
    "| Problem #  | Tasks                                                  | Points  |\n",
    "|:---        |:---                                                    |:---:    |\n",
    "| 1a         | Code: Complete implementation of `BayesNet` class      | 9       |\n",
    "| 1b         | Code: Implement `get_prob` function                    |  5      |\n",
    "| 1c         | Written: Calculate `P(HBP)` by hand                    | 10      |\n",
    "| 1d         | Written: Explain how evidence changes probabilities    |  6      |\n",
    "| 2a         | Code: Modify `P` to handle more complex variables      |  5      |\n",
    "| 2b         | Code: Modify `get_prob` function                       |   5     |\n",
    "| 2c         | Code: Calculate inferences                             |  5      |\n",
    "| 2d         | Written: Calculate inferences by hand                  |  8      |\n",
    "| 2e         | Code: Use approximate Bayesian calculation             |  7      |\n",
    "| Total      |                                                        | 60      |"
   ]
  },
  {
   "cell_type": "code",
   "execution_count": 2,
   "metadata": {},
   "outputs": [],
   "source": [
    "from scipy import stats\n",
    "import numpy as np\n",
    "import pandas as pd\n",
    "import matplotlib.pyplot as plt"
   ]
  },
  {
   "cell_type": "markdown",
   "metadata": {
    "deletable": false,
    "editable": false,
    "nbgrader": {
     "cell_type": "markdown",
     "checksum": "c636816143ac63e2b166a8c26fee1a4e",
     "grade": false,
     "grade_id": "P1-intro",
     "locked": true,
     "schema_version": 3,
     "solution": false,
     "task": false
    }
   },
   "source": [
    "<a id='p1'></a>[Back to top](#top)\n",
    "\n",
    "# Problem 1:  Bayesian network to model heart disease\n",
    "\n",
    "The following Bayesian network is based loosely on a study that examined heart disease risk factors in 167 elderly individuals in South Carolina. Note that this figure uses Y and N to represent Yes and No, whereas in class we used the equivalent T and F to represent True and False Boolean values.\n",
    "\n",
    "<img src=\"http://www.cs.colorado.edu/~tonyewong/home/resources/hw05_bayesnet_heartdisease.png\" style=\"width: 650px;\"/>"
   ]
  },
  {
   "cell_type": "markdown",
   "metadata": {
    "deletable": false,
    "editable": false,
    "nbgrader": {
     "cell_type": "markdown",
     "checksum": "c7766c929b97d399d26137ebb76204a4",
     "grade": false,
     "grade_id": "P1a-intro",
     "locked": true,
     "schema_version": 3,
     "solution": false,
     "task": false
    }
   },
   "source": [
    "<a id='p1a'></a>\n",
    "[Back to top](#top)\n",
    "\n",
    "## (1a) - 9 points\n",
    "\n",
    "Task: create a `BayesNet` object to model this problem. We have provided code for the (conditional) probability `P` function and `BayesNode` class. \n",
    "\n",
    "You can code the `BayesNet` class however you want, subject to the following constraints:\n",
    "1. the nodes are represented using the `BayesNode` class and can work with the `P` function for probabilities,\n",
    "1. your `BayesNet` structure keeps track of which nodes are in the Bayes net, as well as\n",
    "1. which nodes are the parents/children of which other nodes.\n",
    "\n",
    "Some *suggested* skeleton codes for a class structure are given. The suggestions for methods to implement are in view of the fact that we will need to calculate some probabilities, which is going to require us to `find_node`s and `find_values` that nodes can take on."
   ]
  },
  {
   "cell_type": "code",
   "execution_count": 3,
   "metadata": {
    "deletable": false,
    "editable": false,
    "nbgrader": {
     "cell_type": "code",
     "checksum": "a8e02552ac49f6fe22892f0d254d564b",
     "grade": false,
     "grade_id": "P1a-provided-code",
     "locked": true,
     "schema_version": 3,
     "solution": false,
     "task": false
    }
   },
   "outputs": [],
   "source": [
    "# These are provided for you, no need to edit.\n",
    "\n",
    "## For the sake of brevity...\n",
    "T, F = True, False\n",
    "\n",
    "## Define probability node takes on value given evidence\n",
    "def P(node, value, evidence={}):\n",
    "    '''The probability distribution for P(var | evidence), \n",
    "    when all parent variables are known (in evidence)'''\n",
    "    if len(node.parents)==1:\n",
    "        # only one parent\n",
    "        row = evidence[node.parents[0]]\n",
    "    else:\n",
    "        # multiple parents\n",
    "        row = tuple(evidence[parent] for parent in node.parents)\n",
    "    return node.cpt[row] if value else 1-node.cpt[row]\n",
    "\n",
    "## Define BayesNode object\n",
    "class BayesNode:\n",
    "    \n",
    "    def __init__(self, name, parents, values, cpt):\n",
    "        if isinstance(parents, str):\n",
    "            parents = parents.split()\n",
    "            \n",
    "        if len(parents)==0:\n",
    "            # if no parents, empty dict key for cpt\n",
    "            cpt = {(): cpt}\n",
    "        elif isinstance(cpt, dict):\n",
    "            # if there is only one parent, only one tuple argument\n",
    "            if cpt and isinstance(list(cpt.keys())[0], bool):\n",
    "                cpt = {(v): p for v, p in cpt.items()}\n",
    "\n",
    "        self.variable = name\n",
    "        self.parents = parents\n",
    "        self.cpt = cpt\n",
    "        self.values = values\n",
    "        self.children = []\n",
    "        \n",
    "    def __repr__(self):\n",
    "        return repr((self.variable, ' '.join(self.parents)))    "
   ]
  },
  {
   "cell_type": "markdown",
   "metadata": {
    "deletable": false,
    "editable": false,
    "nbgrader": {
     "cell_type": "markdown",
     "checksum": "6d33b81717bc2c3df4a94a0693809630",
     "grade": false,
     "grade_id": "cell-c2e71b29b3ba7ddd",
     "locked": true,
     "schema_version": 3,
     "solution": false,
     "task": false
    }
   },
   "source": [
    "Your solution code to implement the `BayesNet` class goes below. Note that you can structure the internal workings as you wish, but the constructor, `find_node`, and `find_values` must match what is used in the tests."
   ]
  },
  {
   "cell_type": "code",
   "execution_count": 4,
   "metadata": {
    "deletable": false,
    "nbgrader": {
     "cell_type": "code",
     "checksum": "b14b91864f83cf3ffe3af128959d0421",
     "grade": false,
     "grade_id": "P1a-BayesNet-class",
     "locked": false,
     "schema_version": 3,
     "solution": true,
     "task": false
    }
   },
   "outputs": [],
   "source": [
    "##===============================================##\n",
    "## Suggested skeleton codes for a BayesNet class ##\n",
    "##===============================================##\n",
    "\n",
    "class BayesNet:\n",
    "    '''Bayesian network containing only boolean-variable nodes.'''\n",
    "\n",
    "    def __init__(self, nodes):\n",
    "        '''Initialize the Bayes net by:\n",
    "        1. starting empty lists to store future added nodes and variable names\n",
    "        2. storing nodes passed to the contstructor. The passed list \n",
    "            should be BayesNode class objects ordered from parents to \n",
    "            children (`top` to `bottom`, from causes to effects)\n",
    "        Estimated length ~ 5 lines of code\n",
    "        '''\n",
    "        self.NodeList= [x for x in nodes ]\n",
    "        self.Variables = [x.variable for x in nodes ]\n",
    "        self.AddedNodes =[]\n",
    "        #self.Truth=True#used for current variable in calling the p function    \n",
    "    def find_node(self, var):\n",
    "        '''Find and return the BayesNode in the net with name `var`\n",
    "        Return an exception if the requested variable does not exist.\n",
    "        Estimated length ~ 5 lines of code\n",
    "        '''\n",
    "        \n",
    "            \n",
    "        for x in self.NodeList:\n",
    "            if (x.variable==var):\n",
    "                return x\n",
    "        raise LookupError(var+\"not in Bayes Net\") \n",
    "        \n",
    "    def add(self, node):\n",
    "        '''This function adds a new BayesNode to the BayesNet. \n",
    "        The starter code checks that the parents should all already \n",
    "        be in the net, and the variable itself should not be.\n",
    "        Add node and its variables to the appropriate lists and update parent nodes\n",
    "        Estimated length ~ 5 lines of code\n",
    "        '''\n",
    "        assert node.variable not in self.variables\n",
    "        assert all((parent in self.variables) for parent in node.parents)\n",
    "        \n",
    "        #add node\n",
    "        self.NodeList.append(node)\n",
    "        self.variables.append(node.variable)\n",
    "        self.AddedNodes.append(node.variable)\n",
    "        \n",
    "\n",
    "\n",
    "        \n",
    "    def find_values(self, var):\n",
    "        '''Return the set of possible values associated with \n",
    "        the variable `var`\n",
    "        Estimated length ~ < 5 lines of code\n",
    "        '''\n",
    "        assert var in self.Variables\n",
    "        node = self.find_node(var)\n",
    "        return node.values\n",
    "\n",
    "    \n",
    "    # Do not need to modify the below function\n",
    "    def __repr__(self):\n",
    "        return 'BayesNet({})'.format(self.nodes)"
   ]
  },
  {
   "cell_type": "markdown",
   "metadata": {
    "deletable": false,
    "editable": false,
    "nbgrader": {
     "cell_type": "markdown",
     "checksum": "f7b1c0c6afd29fefe3d88e04d3c697fe",
     "grade": false,
     "grade_id": "P1a-test-text",
     "locked": true,
     "schema_version": 3,
     "solution": false,
     "task": false
    }
   },
   "source": [
    "### (1a) Tests"
   ]
  },
  {
   "cell_type": "code",
   "execution_count": 5,
   "metadata": {
    "deletable": false,
    "editable": false,
    "nbgrader": {
     "cell_type": "code",
     "checksum": "6b9da29114303fa948f39892a231a214",
     "grade": true,
     "grade_id": "P1a-tests1",
     "locked": true,
     "points": 3,
     "schema_version": 3,
     "solution": false,
     "task": false
    }
   },
   "outputs": [
    {
     "name": "stdout",
     "output_type": "stream",
     "text": [
      "All tests passed, 3 points\n"
     ]
    }
   ],
   "source": [
    "# Test setting up a simple problem\n",
    "\n",
    "## BEGIN TESTS\n",
    "parent1 = BayesNode('p1', '', [T,F], 0.3)\n",
    "parent2 = BayesNode('p2', '', [T,F], 0.6)\n",
    "child   = BayesNode('c', ['p1', 'p2'], [T,F], {(T,T):0.1, (T,F):0.2, (F,T):0.3, (F,F):0.4})\n",
    "simpleNet = BayesNet([parent1, parent2, child])\n",
    "\n",
    "p1T = P(parent1, T)\n",
    "assert (p1T == 0.3), \"parent1 should have P(true) = 0.3, your code returned %f\" % p1T\n",
    "\n",
    "cF = P(child, F, {'p1':T, 'p2':F})\n",
    "assert (cF == 0.8), \"child should have P(false | p1=true, p2=false) = 0.8, your code returned %f\" %cF\n",
    "\n",
    "print(\"All tests passed, 3 points\")\n",
    "## END TESTS"
   ]
  },
  {
   "cell_type": "code",
   "execution_count": 6,
   "metadata": {
    "deletable": false,
    "editable": false,
    "nbgrader": {
     "cell_type": "code",
     "checksum": "f38e39898937e8c30e4aec59610b9a19",
     "grade": true,
     "grade_id": "P1a-tests2",
     "locked": true,
     "points": 6,
     "schema_version": 3,
     "solution": false,
     "task": false
    }
   },
   "outputs": [
    {
     "name": "stdout",
     "output_type": "stream",
     "text": [
      "All tests passed, 6 points\n"
     ]
    }
   ],
   "source": [
    "## BEGIN TESTS\n",
    "\n",
    "# Define the nodes from the problem statement\n",
    "Sm = BayesNode('Sm', '', [T,F], 0.2)\n",
    "ME = BayesNode('ME', '', [T,F], 0.5)\n",
    "HBP = BayesNode('HBP', ['Sm', 'ME'], [T,F], {(T, T): 0.6, (T, F): 0.72, (F, T): 0.33, (F, F): 0.51})\n",
    "Ath = BayesNode('Ath', '', [T,F], 0.53)\n",
    "FH = BayesNode('FH', '', [T,F], 0.15)\n",
    "HD = BayesNode('HD', ['Ath', 'HBP', 'FH'], [T,F], \n",
    "               {(T, T, T): 0.92, (T, T, F): 0.91, (T, F, T): 0.81, (T, F, F): 0.77,\n",
    "                (F, T, T): 0.75, (F, T, F): 0.69, (F, F, T): 0.38, (F, F, F): 0.23})\n",
    "Ang = BayesNode('Ang', 'HD', [T,F], {T: 0.85, F: 0.4})\n",
    "Rapid = BayesNode('Rapid', 'HD', [T,F], {T: 0.99, F: 0.3})\n",
    "\n",
    "# Create a Bayes net with those nodes and connections\n",
    "bnHeart = BayesNet([Sm, ME, HBP, Ath, FH, HD, Ang, Rapid])\n",
    "\n",
    "FHparents = FH.parents\n",
    "assert (len(FHparents) == 0), \"Node FH should have 0 parents, your code returned %s\" % FHparents\n",
    "HDparents = HD.parents\n",
    "assert (len(HDparents) == 3), \"Node HD should have 3 parents, your code returned %s\" % HDparents\n",
    "\n",
    "# Test find_node function\n",
    "assert (bnHeart.find_node(\"Sm\") != None), \"Could not find node with name Sm\"\n",
    "assert (bnHeart.find_node(\"HD\") != None), \"Could not find node with name HD\"\n",
    "assert (bnHeart.find_node(\"Ang\") != None), \"Could not find node with name Ang\"\n",
    "\n",
    "# Test find_values function\n",
    "MEvars = bnHeart.find_values(\"ME\")\n",
    "assert (MEvars == [T, F]), \"Values for ME node should be [True, False], your code returned %s\" % MEvars\n",
    "HDvars = bnHeart.find_values(\"HD\")\n",
    "assert (HDvars == [T, F]), \"Values for HD node should be [True, False], your code returned %s\" % HDvars\n",
    "\n",
    "\n",
    "print(\"All tests passed, 6 points\")\n",
    "\n",
    "## END TESTS"
   ]
  },
  {
   "cell_type": "markdown",
   "metadata": {
    "deletable": false,
    "editable": false,
    "nbgrader": {
     "cell_type": "markdown",
     "checksum": "50ac128d9b5efbbb5fcc723e0227ac8e",
     "grade": false,
     "grade_id": "P1b-text",
     "locked": true,
     "schema_version": 3,
     "solution": false,
     "task": false
    }
   },
   "source": [
    "<a id='p1b'></a>\n",
    "[Back to top](#top)\n",
    "\n",
    "## (1b) - 5 points\n",
    "\n",
    "Implement a function `get_prob(X, e, bn)` to return the **normalized** probability distribution of variable `X` in Bayes net `bn`, given the evidence `e`.  That is, return $P(X \\mid e)$. The arguments are:\n",
    "* `X` is some representation of the variable you are querying the probability distribution of. Either a string (the variable name from the `BayesNode` or a `BayesNode` object itself are good options.\n",
    "* `e` is some representation of the evidence your probability is conditioned on. When given an empty argument (or `None`) for `e`, `get_prob` should return the marginal distribution $P(X)$.\n",
    "* `bn` is your `BayesNet` object.\n",
    "\n",
    "You may do this using the `enumeration` algorithm (pseudocode is in the book), or by brute force (i.e., use a few `for` loops). Either way, you should be using your `BayesNet` object to keep track of all the nodes and relationships between nodes so your `get_prob` function knows these things. We have provided a few helper functions in the `PDF_discrete` class."
   ]
  },
  {
   "cell_type": "code",
   "execution_count": 7,
   "metadata": {
    "deletable": false,
    "nbgrader": {
     "cell_type": "code",
     "checksum": "1baa357f5513c71109c5494818f8dbc1",
     "grade": false,
     "grade_id": "P1b-pdf-code",
     "locked": false,
     "schema_version": 3,
     "solution": true,
     "task": false
    }
   },
   "outputs": [],
   "source": [
    "\n",
    "class PDF_discrete:\n",
    "    '''Define a discrete probability distribution function.'''\n",
    "\n",
    "    def __init__(self, varname='?', freqs=None):\n",
    "        '''Create a dictionary of values - frequency pairs,\n",
    "        then normalize the distribution to sum to 1.'''\n",
    "        self.prob = {}\n",
    "        self.varname = varname\n",
    "        self.values = []\n",
    "        if freqs:\n",
    "            for (v, p) in freqs.items():\n",
    "                self[v] = p\n",
    "        self.normalize()\n",
    "\n",
    "    def __getitem__(self, value):\n",
    "        '''Given a value, return P[value]'''\n",
    "        try:\n",
    "            return self.prob[value]\n",
    "        except KeyError:\n",
    "            return 0\n",
    "\n",
    "    def __setitem__(self, value, p):\n",
    "        '''Set P[value] = p, input argument if '''\n",
    "        if value not in self.values:\n",
    "            self.values.append(value)\n",
    "        self.prob[value] = p\n",
    "\n",
    "    def normalize(self):\n",
    "        '''Normalize the probability distribution and return it.\n",
    "        If the sum of PDF values is 0, then return a 0\n",
    "        '''\n",
    "\n",
    "        total = sum(self.prob.values())\n",
    "        if not np.isclose(total, 0.0):\n",
    "            for value in self.prob:\n",
    "                self.prob[value] /= total\n",
    "        return self\n",
    "    \n",
    "def extend(s, var, val):\n",
    "    \"\"\"Copy the substitution s and extend it by setting var to val; return copy.\"\"\"\n",
    "    s2 = s.copy()\n",
    "    s2[var] = val\n",
    "    return s2\n",
    "def enumerateAll(varList,e,bn):\n",
    "    if(len(varList)<=0):\n",
    "        return 1\n",
    "    Y= bn.find_node(varList[0])\n",
    "    restVars= varList[1:len(varList)]\n",
    "    \n",
    "    if Y.variable in e.keys():\n",
    "        y=e[Y.variable]\n",
    "        probY = P(Y,y,e)\n",
    "        return probY * enumerateAll(restVars,e,bn)\n",
    "    \n",
    "    else:\n",
    "        possible_y=Y.values#[T,F]\n",
    "        ySum=0\n",
    "        for y in possible_y:\n",
    "            newE0 =extend(e,Y.variable,y)\n",
    "            t0=P(Y,y,newE0)\n",
    "            recCall = enumerateAll(restVars,newE0,bn)\n",
    "            ySum += (t0*recCall)\n",
    "        \n",
    "        return ySum\n",
    "        \n",
    "def get_prob(X, e, bn):\n",
    "    '''Return the conditional probability distribution of variable X\n",
    "    given evidence e, from BayesNet bn. [Figure 14.9]\n",
    "    Return normalized instance of PDF_discrete\n",
    "    '''\n",
    "    #enumeration from psuedo code from book\n",
    "    pdfX =  PDF_discrete(X.variable)\n",
    "\n",
    "    #for each value of X \n",
    "    for xi in X.values:\n",
    "        \n",
    "        e_xi = extend(e,X.variable,xi)\n",
    "        #call to enumerate-All\n",
    "        q_xi = enumerateAll(bn.Variables,e_xi,bn)\n",
    "        pdfX.prob[xi] = q_xi\n",
    "        \n",
    "\n",
    "    pdfX.normalize()\n",
    "    #print(T,pdfX.prob[T])\n",
    "    #print(F,pdfX.prob[F])\n",
    "    \n",
    "    assert X.variable in e.keys()\n",
    "    finalVal = e[X.variable]\n",
    "   \n",
    "    return pdfX.prob[finalVal]\n",
    "    "
   ]
  },
  {
   "cell_type": "markdown",
   "metadata": {
    "deletable": false,
    "editable": false,
    "nbgrader": {
     "cell_type": "markdown",
     "checksum": "7894068c6c453e072588d203f516b041",
     "grade": false,
     "grade_id": "P1b-test-text",
     "locked": true,
     "schema_version": 3,
     "solution": false,
     "task": false
    }
   },
   "source": [
    "### (1b) Tests"
   ]
  },
  {
   "cell_type": "markdown",
   "metadata": {
    "deletable": false,
    "editable": false,
    "nbgrader": {
     "cell_type": "markdown",
     "checksum": "64ceb7bca39e8329cfaceff031381235",
     "grade": false,
     "grade_id": "P1b-test-text2",
     "locked": true,
     "schema_version": 3,
     "solution": false,
     "task": false
    }
   },
   "source": [
    "Use your `get_prob` function to calculate the following probabilities. You can print them to the screen and compare to the original Bayes net figure given to make sure this makes sense. We have given you the variable names to assign your answers to, which will be used in the test cases. *Do not* change the variable names or the tests will not pass! You *must* use the `get_prob` function to calculate these values, we will not give credit for hard-coded answers.\n",
    "\n",
    "1. Calculate the marginal probability of `Family History` is True $P(FH=T)$ and assign to `a1`\n",
    "2. Calculate the probability of *not* experiencing `Angina Pectoris`, given `Heart Disease` is observed $P(Ang=F \\mid HD=T)$ and assign to `a2`\n",
    "3. Calculate the probability of `High Blood Pressure`, given a person does `Smoke and/or use Alcohol` but does not get `Moderate Exercise` $P(HBP=T \\mid Sm=T, ME=F)$ and assign to `a3`\n",
    "4. Calculate the probability of an arbitrary individual having `Heart Disease`, $P(HD=T)$ and assign to `a4`\n",
    "5. Calculate the probability that an individual does *not* have `Heart Disease`, given that `Rapid Heartbeat` was observed, $P(HD=F \\mid Rapid=T)$ and assign to `a5`\n",
    "6. Calculate the probability of an individual having `High Blood Pressure` if they have `Heart Disease` and a `Family History`, $P(HBP=T \\mid HD=T, FH=T)$ and assign to `a6`\n",
    "7. Calculate the probability that an individual is a `Smoker/Alcohol User` if they have `Heart Disease`, $P(Sm=T \\mid HD=T)$ and assign to `a7`"
   ]
  },
  {
   "cell_type": "code",
   "execution_count": 8,
   "metadata": {
    "deletable": false,
    "nbgrader": {
     "cell_type": "code",
     "checksum": "4c2888f38c2803e283957bb0bae339eb",
     "grade": false,
     "grade_id": "P1b-test-code",
     "locked": false,
     "schema_version": 3,
     "solution": true,
     "task": false
    }
   },
   "outputs": [],
   "source": [
    "# Your code to calculate the probabilities goes here\n",
    "# Estimated length: 1-2 lines per calculation\n",
    "\n",
    "X=bnHeart.find_node(\"FH\")\n",
    "e= {\"FH\": T}\n",
    "a1= get_prob(X,e,bnHeart)\n",
    "\n",
    "X=bnHeart.find_node(\"Ang\")\n",
    "e={'Ang':F, 'HD':T}\n",
    "a2= get_prob(X,e,bnHeart)\n",
    "\n",
    "X=bnHeart.find_node(\"HBP\")\n",
    "e={\"HBP\":T,'Sm':T, 'ME':F}\n",
    "a3= get_prob(X,e,bnHeart)\n",
    "\n",
    "X=bnHeart.find_node(\"HD\")\n",
    "e={\"HD\":T}\n",
    "a4= get_prob(X,e,bnHeart)\n",
    "\n",
    "X=bnHeart.find_node(\"HD\")\n",
    "e={\"HD\":F,\"Rapid\":T}\n",
    "a5= get_prob(X,e,bnHeart)\n",
    "\n",
    "X=bnHeart.find_node(\"HBP\")\n",
    "e={\"HBP\":T,\"HD\":T,\"FH\":T}\n",
    "a6= get_prob(X,e,bnHeart)\n",
    "\n",
    "X=bnHeart.find_node(\"Sm\")\n",
    "e={\"Sm\":T,\"HD\":T}\n",
    "a7= get_prob(X,e,bnHeart)"
   ]
  },
  {
   "cell_type": "code",
   "execution_count": 9,
   "metadata": {
    "deletable": false,
    "editable": false,
    "nbgrader": {
     "cell_type": "code",
     "checksum": "ac804dbe003066a5bedff574cf1366e2",
     "grade": true,
     "grade_id": "P1b-tests",
     "locked": true,
     "points": 5,
     "schema_version": 3,
     "solution": false,
     "task": false
    }
   },
   "outputs": [
    {
     "name": "stdout",
     "output_type": "stream",
     "text": [
      "All tests passed, 5 points\n"
     ]
    }
   ],
   "source": [
    "## BEGIN TESTS\n",
    "assert (np.isclose(a1, 0.15, atol=0.002)), \"P(FH) = 0.15 and your code returned %f\" % a1\n",
    "assert (np.isclose(a2, 0.15, atol=0.002)), \"P(!Ang|HD) = 0.85 and your code returned %f\" % a2\n",
    "assert (np.isclose(a3, 0.72, atol=0.002)), \"P(HBP|Sm, ME) = 0.72 and your code returned %f\" % a3\n",
    "assert (np.isclose(a4, 0.661, atol=0.002)), \"P(HD) = 0.662 and your code returned %f\" % a4\n",
    "assert (np.isclose(a5, 0.134, atol = 0.002)), \"P(HD|Rapid) = 0.865 and your code returned %f\" % a5\n",
    "assert (np.isclose(a6, 0.548, atol = 0.002)), \"P(HBP|HD,FH) = 0.548 and your code returned %f\" % a6\n",
    "assert (np.isclose(a7, 0.216, atol = 0.002)), \"P(Sm|HD) = 0.216 and your code returned %f\" % a7\n",
    "\n",
    "print(\"All tests passed, 5 points\")\n",
    "## END TESTS"
   ]
  },
  {
   "cell_type": "markdown",
   "metadata": {
    "deletable": false,
    "editable": false,
    "nbgrader": {
     "cell_type": "markdown",
     "checksum": "3752d27a713a03113e4c94558cd0ecbb",
     "grade": false,
     "grade_id": "P1c-text",
     "locked": true,
     "schema_version": 3,
     "solution": false,
     "task": false
    }
   },
   "source": [
    "<a id='p1c'></a>\n",
    "[Back to top](#top)\n",
    "\n",
    "## (1c) - 10 points\n",
    "\n",
    "Calculate the probability of observing someone with `High Blood Pressure`, $P(HBP=T)$, *by hand*, showing all work in Markdown/LateX below."
   ]
  },
  {
   "cell_type": "markdown",
   "metadata": {
    "deletable": false,
    "nbgrader": {
     "cell_type": "markdown",
     "checksum": "2329d090411edfc4f5c8490d8f11854f",
     "grade": true,
     "grade_id": "P1c-calculation",
     "locked": false,
     "points": 8,
     "schema_version": 3,
     "solution": true,
     "task": false
    }
   },
   "source": [
    "X = HBP\\\n",
    "E = no evidence\\\n",
    "Hidden vars ={SM,ME,HD,ATH,FH,ANG,Rapid}\\\n",
    "P(HBP) = $\\sum_{SM,ME,HD,ATH,FH,ANG,Rapid} $P(HBP | SM, ME) P(SM) P(ME) P(HD | HBP,ATH,FH) P(ATH) P(FH) P(Ang | HD) P(Rapid | HD)\n",
    "- which can be reduced with summing out hidden variables that are not dependent on x or E or their parents\n",
    "\n",
    "P(HBP) = $\\sum_{SM,ME} $P(HBP | SM, ME) P(SM) P(ME)$\\sum_{HD,ATH,FH}$ P(HD | HBP,ATH,FH) P(ATH) P(FH) $\\sum_{Ang}$ P(Ang | HD)$\\sum_{Rapid}$ P(Rapid | HD)\n",
    "\n",
    "\n",
    "| SM | ME | $\\texttt{P(HBP | SM, ME) P(SM) P(ME)}$ |\n",
    "|-----|-------|------|\n",
    "|T |T|(.60)(.20)(.50)=.06|\n",
    "|T |F|(.72)(.20)(.50)=.072|\n",
    "|F |T|(.33)(.80)(.50)=.132|\n",
    "|F |F|(.51)(.80)(.50)=.204|\n",
    "\n",
    "Than we sum each rows answers $.06+.072+.132+.204= .468"
   ]
  },
  {
   "cell_type": "markdown",
   "metadata": {
    "deletable": false,
    "editable": false,
    "nbgrader": {
     "cell_type": "markdown",
     "checksum": "230f0a87c1f50185e62ef5441882af89",
     "grade": false,
     "grade_id": "P1c-code-text",
     "locked": true,
     "schema_version": 3,
     "solution": false,
     "task": false
    }
   },
   "source": [
    "### (1c) Tests\n",
    "**Verify** your calculation using your `get_prob` function. Store your answer in the provided `pHBP` variable."
   ]
  },
  {
   "cell_type": "code",
   "execution_count": 10,
   "metadata": {
    "deletable": false,
    "nbgrader": {
     "cell_type": "code",
     "checksum": "afbee5f357a4388967d48ee67ea373a5",
     "grade": false,
     "grade_id": "P1c-code",
     "locked": false,
     "schema_version": 3,
     "solution": true,
     "task": false
    }
   },
   "outputs": [],
   "source": [
    "X=bnHeart.find_node(\"HBP\")\n",
    "e={\"HBP\":T}\n",
    "pHBP= get_prob(X,e,bnHeart)"
   ]
  },
  {
   "cell_type": "code",
   "execution_count": 11,
   "metadata": {
    "deletable": false,
    "editable": false,
    "nbgrader": {
     "cell_type": "code",
     "checksum": "0c61b24dfcc14e9bc9e65cd015e8ff87",
     "grade": true,
     "grade_id": "P1c-tests",
     "locked": true,
     "points": 2,
     "schema_version": 3,
     "solution": false,
     "task": false
    }
   },
   "outputs": [
    {
     "name": "stdout",
     "output_type": "stream",
     "text": [
      "All tests passed, 2 points\n"
     ]
    }
   ],
   "source": [
    "## BEGIN TESTS\n",
    "assert (np.isclose(pHBP, 0.468, atol=0.002)), \"P(HPB) = 0.468, your code returned %f\" % pHBP2\n",
    "\n",
    "print(\"All tests passed, 2 points\")\n",
    "## END TESTS"
   ]
  },
  {
   "cell_type": "markdown",
   "metadata": {
    "deletable": false,
    "editable": false,
    "nbgrader": {
     "cell_type": "markdown",
     "checksum": "04050c7f6f53106ee3d135c1f131d103",
     "grade": false,
     "grade_id": "P1d-text1",
     "locked": true,
     "schema_version": 3,
     "solution": false,
     "task": false
    }
   },
   "source": [
    "<a id='p1d'></a>\n",
    "[Back to top](#top)\n",
    "\n",
    "## (1d) - 6 points\n",
    "\n",
    "How would you expect the probability in `a7` from problem (1b) to change if you also know the individual has `High Blood Pressure`?  Verify your hypothesis by calculating the relevant probability."
   ]
  },
  {
   "cell_type": "markdown",
   "metadata": {
    "deletable": false,
    "nbgrader": {
     "cell_type": "markdown",
     "checksum": "3ad27f33e544a1b62c6430e7933ec69d",
     "grade": true,
     "grade_id": "P1d-answer1",
     "locked": false,
     "points": 3,
     "schema_version": 3,
     "solution": true,
     "task": false
    }
   },
   "source": [
    "I would expect the probability of smoking and alocohol would increase as smoking and alcohol is a parent of high blood pressure. If we look at P(HBP | SM) each time SM is true the probability of have HBP is higher (.60,.72) as well. So in the enumerateAll function our sums of products of conditional probibilities will also be higher as a any number multiplies by a higher decimal will be a bigger product than ones multiplied than smaller decimals. So with the extra evidence we would not include P(!HBP| SM) as before we would have had to calculate P(HBP| SM) and P(!HBP | SM) in the enumerate all function.  "
   ]
  },
  {
   "cell_type": "code",
   "execution_count": 12,
   "metadata": {
    "deletable": false,
    "nbgrader": {
     "cell_type": "code",
     "checksum": "8fbbf80c5eb73d3e26776034530c8ce9",
     "grade": false,
     "grade_id": "P1d-code1",
     "locked": false,
     "schema_version": 3,
     "solution": true,
     "task": false
    }
   },
   "outputs": [
    {
     "name": "stdout",
     "output_type": "stream",
     "text": [
      "Orginal Probability of A7: 0.2163440784303391 VS with HBP being True: 0.28205128205128205\n"
     ]
    }
   ],
   "source": [
    "# Your code to verify here (not graded)\n",
    "\n",
    "X=bnHeart.find_node(\"Sm\")\n",
    "e={\"Sm\":T,\"HD\":T,\"HBP\":T}\n",
    "a7_v2= get_prob(X,e,bnHeart)\n",
    "print(\"Orginal Probability of A7: \"+str(a7)+\" VS with HBP being True: \"+str(a7_v2))"
   ]
  },
  {
   "cell_type": "markdown",
   "metadata": {
    "deletable": false,
    "editable": false,
    "nbgrader": {
     "cell_type": "markdown",
     "checksum": "924235f8105e1d7ec86c01450573903c",
     "grade": false,
     "grade_id": "P1d-answer2",
     "locked": true,
     "schema_version": 3,
     "solution": false,
     "task": false
    }
   },
   "source": [
    "How would you expect the probability in the last part to change if you also know that the individual does *not* get `Moderate Exercise` (in addition to having `Heart Disease` and `High Blood Pressure`)?  Explain your answer using concepts from class.  Verify your answer by calculating the relevant probability."
   ]
  },
  {
   "cell_type": "markdown",
   "metadata": {
    "deletable": false,
    "nbgrader": {
     "cell_type": "markdown",
     "checksum": "d2f47adbbdf0d0fca1284e508564cfe7",
     "grade": true,
     "grade_id": "p1d-text2",
     "locked": false,
     "points": 3,
     "schema_version": 3,
     "solution": true,
     "task": false
    }
   },
   "source": [
    "The probability from last would decrease if we know the individual does not get Moderate Exercise. As the difference this would makes is when calculating HBP we would only include the P(HBP| Sm: T, ME:F) which eliminates all the options in  P(HBP| SM,ME) to just one being .72 assuming HBP is true from last part. So when doing total summations we will not add the probability product of (P(HBP| SM, ME: F) * P(ME: F) * rest) as it will just get skipped. Hence I think it should only be a small decrease."
   ]
  },
  {
   "cell_type": "code",
   "execution_count": 13,
   "metadata": {
    "deletable": false,
    "nbgrader": {
     "cell_type": "code",
     "checksum": "c6ff6a8b9e9a987ceea26b0b26b28aeb",
     "grade": false,
     "grade_id": "p1d-code2",
     "locked": false,
     "schema_version": 3,
     "solution": true,
     "task": false
    }
   },
   "outputs": [
    {
     "name": "stdout",
     "output_type": "stream",
     "text": [
      "Orginal Probability of A7_v2: 0.28205128205128205 VS with ME being False: 0.2608695652173913\n"
     ]
    }
   ],
   "source": [
    "# Your code to verify here (not graded)\n",
    "\n",
    "X=bnHeart.find_node(\"Sm\")\n",
    "e={\"Sm\":T,\"HD\":T,\"HBP\":T,\"ME\":F}\n",
    "a7_v3= get_prob(X,e,bnHeart)\n",
    "print(\"Orginal Probability of A7_v2: \"+str(a7_v2)+\" VS with ME being False: \"+str(a7_v3))"
   ]
  },
  {
   "cell_type": "markdown",
   "metadata": {
    "deletable": false,
    "editable": false,
    "nbgrader": {
     "cell_type": "markdown",
     "checksum": "f7477139109cd6976868b3c523864eb5",
     "grade": false,
     "grade_id": "p2-intro",
     "locked": true,
     "schema_version": 3,
     "solution": false,
     "task": false
    }
   },
   "source": [
    "<a id='p2'></a>\n",
    "[Back to top](#top)\n",
    "\n",
    "<img src=\"https://inhabitat.com/wp-content/blogs.dir/1/files/2014/02/norman-bike-riding-dog.png\" style=\"width: 350px;\"/>\n",
    "\n",
    "# Problem 2:  Bayesian network to model decision-making\n",
    "\n",
    "Let's consider using a Bayesian network to model our decision about whether or not to ride our bike to work today.  This decision depends heavily on the weather, so let's focus on that.\n",
    "\n",
    "In class, we focused on Boolean variables.  For example, we might base our biking decision on whether or not it is raining.  But in reality, it probably matters *how hard* it is raining.  So suppose we break the variable `Rain` up into three discrete bins: `none`, `light` and `heavy`.\n",
    "\n",
    "The temperature also factors into our decision.  There is definitely a sweet spot, where temperatures are neither too warm nor too cold, so it is very likely we would enjoy riding our bike.  So we can model the variable `Temperature` also using three discrete bins: `cold`, `moderate` and `warm`.\n",
    "\n",
    "So a Bayesian network to model our decision for whether or not to bike to work could be as follows, where the first letter of each discrete bin is used to denote that variable value (i.e., `R=h` stands for heavy rain conditions).\n",
    "\n",
    "<img src=\"http://www.cs.colorado.edu/~tonyewong/home/resources/bayesnet_biking2.png\" style=\"width: 650px;\"/>"
   ]
  },
  {
   "cell_type": "markdown",
   "metadata": {
    "deletable": false,
    "editable": false,
    "nbgrader": {
     "cell_type": "markdown",
     "checksum": "927dbff0bc1abaa389b7e244e3a96dab",
     "grade": false,
     "grade_id": "p2a-intro",
     "locked": true,
     "schema_version": 3,
     "solution": false,
     "task": false
    }
   },
   "source": [
    "<a id='p2a'></a>\n",
    "[Back to top](#top)\n",
    "\n",
    "## (2a) - 5 points\n",
    "\n",
    "Modify the `P` probability function to be able to handle these ternary parent nodes."
   ]
  },
  {
   "cell_type": "code",
   "execution_count": 14,
   "metadata": {
    "deletable": false,
    "nbgrader": {
     "cell_type": "code",
     "checksum": "1f0888b6e396e2ca9d6e5c12829ff4f7",
     "grade": false,
     "grade_id": "p2a-code1",
     "locked": false,
     "schema_version": 3,
     "solution": true,
     "task": false
    }
   },
   "outputs": [],
   "source": [
    "# modified function for conditional probabilities,\n",
    "# to handle ternary (or more) case\n",
    "def P(var, value, evidence={}):\n",
    "    '''The probability distribution for P(var | evidence), \n",
    "    when all parent variables are known (in evidence)\n",
    "    Consider how the calculation differs based on the number of parents.\n",
    "    Estimated length: ~10 lines of code\n",
    "    '''\n",
    "    '''The probability distribution for P(var | evidence), \n",
    "    when all parent variables are known (in evidence)'''\n",
    "    if len(var.parents)==1:\n",
    "        #print(\"1 parent\")\n",
    "        # only one parent\n",
    "        row = evidence[node.parents[0]]\n",
    "    else:\n",
    "        # multiple parents\n",
    "        #print(\"multi parent\")\n",
    "        row = tuple(evidence[parent] for parent in var.parents)\n",
    "    #if (len(row) <=0):\n",
    "    if(type(value)!= bool):\n",
    "        if value in var.cpt[row].keys():\n",
    "            return var.cpt[row][value]\n",
    "        else:\n",
    "            \n",
    "            sumVals = sum(var.cpt[row].values())\n",
    "            #print(round(sumVals,2))\n",
    "            return round(1-sumVals,2)\n",
    "    else:\n",
    "        return var.cpt[row] if value else 1-var.cpt[row]\n",
    "        #return var.cpt[row]"
   ]
  },
  {
   "cell_type": "markdown",
   "metadata": {
    "deletable": false,
    "editable": false,
    "nbgrader": {
     "cell_type": "markdown",
     "checksum": "1201ac4db7ca8cd9195cb5606c0c82ca",
     "grade": false,
     "grade_id": "p2a-transition",
     "locked": true,
     "schema_version": 3,
     "solution": false,
     "task": false
    }
   },
   "source": [
    "Below we'll set up `BayesNode` objects for each of `Rain`, `Temp` and `Bike`, and create a `BayesNet` object to model the Bayesian network for this decision."
   ]
  },
  {
   "cell_type": "code",
   "execution_count": 15,
   "metadata": {
    "deletable": false,
    "editable": false,
    "nbgrader": {
     "cell_type": "code",
     "checksum": "689330b6b5de54dabe51d380ba4cb419",
     "grade": false,
     "grade_id": "p2a-net",
     "locked": true,
     "schema_version": 3,
     "solution": false,
     "task": false
    }
   },
   "outputs": [],
   "source": [
    "# Set up the Bayes net\n",
    "n,l,h,c,m,w,T,F = 'None','Light','Heavy','Cold','Moderate','Warm',True,False\n",
    "\n",
    "rain = BayesNode('Rain', '', [n,l,h], {n : 0.8, l : 0.15})\n",
    "temp = BayesNode('Temp', '', [c,m,w], {c : 0.3, m : 0.6 })\n",
    "bike = BayesNode('Bike', ['Rain', 'Temp'], [T, F], {(n,c) : 0.7, (n,m) : 0.99, (n,w) : 0.9,\n",
    "                                                    (l,c) : 0.4, (l,m) : 0.6 , (l,w) : 0.5,\n",
    "                                                    (h,c) : 0.2, (h,m) : 0.4 , (h,w) : 0.3})\n",
    "bnRide = BayesNet([rain, temp, bike])"
   ]
  },
  {
   "cell_type": "markdown",
   "metadata": {
    "deletable": false,
    "editable": false,
    "nbgrader": {
     "cell_type": "markdown",
     "checksum": "34faa6f833db011ce95c45332c165839",
     "grade": false,
     "grade_id": "p2a-prompt",
     "locked": true,
     "schema_version": 3,
     "solution": false,
     "task": false
    }
   },
   "source": [
    "**Verify** that your modified probability function `P` is working by making the following calculations. You may print the output to screen and compare to what you expect from the figure above.\n",
    "\n",
    "1. Calculate the marginal probability of no rain is $P(Rain=n)=0.8$ and store as `p2a1`\n",
    "1. Calculate the marginal probability of light rain is $P(Rain=l)=0.15$ and store as `p2a2`\n",
    "1. Calculate the marginal probability of heavy rain is $P(Rain=h)=0.05$ and store as `p2a3`\n",
    "1. Calculate the probability of biking given that it is raining heavily and the temperature is cold, is $P(Bike=T \\mid Rain=h, Temp=c)=0.2$ and store as `p2a4`"
   ]
  },
  {
   "cell_type": "code",
   "execution_count": 16,
   "metadata": {
    "deletable": false,
    "nbgrader": {
     "cell_type": "code",
     "checksum": "05fe0eb3c208f2b8028430153005c795",
     "grade": false,
     "grade_id": "p2a-code2",
     "locked": false,
     "schema_version": 3,
     "solution": true,
     "task": false
    }
   },
   "outputs": [],
   "source": [
    "# Your code to calculate goes here:\n",
    "\n",
    "p2a1 = None\n",
    "X=bnRide.find_node(\"Rain\")\n",
    "p2a1 = P(X,n)\n",
    "\n",
    "p2a2 = None\n",
    "X=bnRide.find_node(\"Rain\")\n",
    "p2a2 = P(X,l)\n",
    "\n",
    "p2a3 = None\n",
    "X=bnRide.find_node(\"Rain\")\n",
    "p2a3 = P(X,h)\n",
    "\n",
    "\n",
    "p2a4 = None\n",
    "X=bnRide.find_node(\"Bike\")\n",
    "e= {\"Rain\":h,\"Temp\": c}\n",
    "p2a4 = P(X,T,e)\n"
   ]
  },
  {
   "cell_type": "markdown",
   "metadata": {
    "deletable": false,
    "editable": false,
    "nbgrader": {
     "cell_type": "markdown",
     "checksum": "93ef09b03ec4d7baf601048e3705335d",
     "grade": false,
     "grade_id": "p2a-tests-text",
     "locked": true,
     "schema_version": 3,
     "solution": false,
     "task": false
    }
   },
   "source": [
    "### (2a) Tests"
   ]
  },
  {
   "cell_type": "code",
   "execution_count": 17,
   "metadata": {
    "deletable": false,
    "editable": false,
    "nbgrader": {
     "cell_type": "code",
     "checksum": "baffcf006ae2879925a90efee450a7d1",
     "grade": true,
     "grade_id": "p2a-tests",
     "locked": true,
     "points": 5,
     "schema_version": 3,
     "solution": false,
     "task": false
    }
   },
   "outputs": [
    {
     "name": "stdout",
     "output_type": "stream",
     "text": [
      "Tests passed, 5 points\n"
     ]
    }
   ],
   "source": [
    "## BEGIN TESTS\n",
    "assert (np.isclose(p2a1, 0.8, atol = 0.002)), \"P(R=n) = 0.8, your code returned %f\" % p2a1\n",
    "assert (np.isclose(p2a2, 0.15, atol = 0.002)), \"P(R=l) = 0.15, your code returned %f\" % p2a2\n",
    "assert (np.isclose(p2a3, 0.05, atol = 0.002)), \"P(R=h) = 0.05, your code returned %f\" % p2a3\n",
    "assert (np.isclose(p2a4, 0.2, atol = 0.002)), \"P(B|R=h, T=c) = 0.2, your code returned %f\" % p2a4\n",
    "\n",
    "print(\"Tests passed, 5 points\")\n",
    "## END TESTS"
   ]
  },
  {
   "cell_type": "markdown",
   "metadata": {
    "deletable": false,
    "editable": false,
    "nbgrader": {
     "cell_type": "markdown",
     "checksum": "603e63d4248058bdd60c3536670e2912",
     "grade": false,
     "grade_id": "p2b-text",
     "locked": true,
     "schema_version": 3,
     "solution": false,
     "task": false
    }
   },
   "source": [
    "<a id='p2b'></a>\n",
    "[Back to top](#top)\n",
    "\n",
    "## (2b) - 5 points\n",
    "\n",
    "Make any necessary modifications to your `get_prob` function from Problem 1, so that you can use it to calculate marginal probabilities and conditional probabilities for this problem. It is possible that your function does not require any modifications."
   ]
  },
  {
   "cell_type": "code",
   "execution_count": 18,
   "metadata": {
    "deletable": false,
    "nbgrader": {
     "cell_type": "code",
     "checksum": "efc19cb128e8a0c86a221554850cb14b",
     "grade": false,
     "grade_id": "p2b-function",
     "locked": false,
     "schema_version": 3,
     "solution": true,
     "task": false
    }
   },
   "outputs": [],
   "source": [
    "#did not need to change anything"
   ]
  },
  {
   "cell_type": "markdown",
   "metadata": {
    "deletable": false,
    "editable": false,
    "nbgrader": {
     "cell_type": "markdown",
     "checksum": "1a9d747431a538970112baceef25aa36",
     "grade": false,
     "grade_id": "p2b-prompt",
     "locked": true,
     "schema_version": 3,
     "solution": false,
     "task": false
    }
   },
   "source": [
    "1. Use `get_prob` to calculate $P(Bike)$, the probability distribution for whether or not you will ride your bike on any given day. Store the value of $P(B=True)$ in the variable `p2a5`.\n",
    "2. Use `get_prob` to calculate the probability that you will ride your bike, given that it is lightly raining and store the value in the variable `p2a6`."
   ]
  },
  {
   "cell_type": "code",
   "execution_count": 19,
   "metadata": {
    "deletable": false,
    "nbgrader": {
     "cell_type": "code",
     "checksum": "93760612be0d65be0f93110d41cc705b",
     "grade": false,
     "grade_id": "p2b-code",
     "locked": false,
     "schema_version": 3,
     "solution": true,
     "task": false
    }
   },
   "outputs": [],
   "source": [
    "# Your code here to calculate\n",
    "\n",
    "p2a5 = None\n",
    "X=bnRide.find_node(\"Bike\")\n",
    "e={\"Bike\":T}\n",
    "p2a5= get_prob(X,e,bnRide)\n",
    "\n",
    "p2a6 = None\n",
    "X=bnRide.find_node(\"Bike\")\n",
    "e={\"Bike\":T,\"Rain\":l}\n",
    "p2a6= get_prob(X,e,bnRide)"
   ]
  },
  {
   "cell_type": "markdown",
   "metadata": {
    "deletable": false,
    "editable": false,
    "nbgrader": {
     "cell_type": "markdown",
     "checksum": "04ede3930aa2f364490dd3f24b48d68a",
     "grade": false,
     "grade_id": "p2b-header",
     "locked": true,
     "schema_version": 3,
     "solution": false,
     "task": false
    }
   },
   "source": [
    "### (2b) Tests"
   ]
  },
  {
   "cell_type": "code",
   "execution_count": 20,
   "metadata": {
    "deletable": false,
    "editable": false,
    "nbgrader": {
     "cell_type": "code",
     "checksum": "0299828efab32eba396290eadcf8cb22",
     "grade": true,
     "grade_id": "p2b-tests",
     "locked": true,
     "points": 5,
     "schema_version": 3,
     "solution": false,
     "task": false
    }
   },
   "outputs": [
    {
     "name": "stdout",
     "output_type": "stream",
     "text": [
      "All tests passed, 5 points\n"
     ]
    }
   ],
   "source": [
    "## BEGIN TESTS\n",
    "assert (np.isclose(p2a5, 0.811, atol=0.002)), \"P(Bike) = 0.811, your code returned %f\" % p2a5\n",
    "assert (np.isclose(p2a6, 0.529, atol=0.002)), \"P(B=T|R=l) = 0.529, your code returned %f\" %p2a6\n",
    "\n",
    "print(\"All tests passed, 5 points\")\n",
    "## END TESTS"
   ]
  },
  {
   "cell_type": "markdown",
   "metadata": {
    "deletable": false,
    "editable": false,
    "nbgrader": {
     "cell_type": "markdown",
     "checksum": "b47d0e73229c207c5785968475d2b932",
     "grade": false,
     "grade_id": "p2c-text",
     "locked": true,
     "schema_version": 3,
     "solution": false,
     "task": false
    }
   },
   "source": [
    "<a id='p2c'></a>\n",
    "[Back to top](#top)\n",
    "\n",
    "## (2c) - 5 points\n",
    "\n",
    "We are trapped indoors because some jerk gave us a ton of Intro to Artificial Intelligence homework to do.  Suppose we look out the window and see people biking. They sure do look like they're having fun! *Given* this information, we can actually make inferences regarding the temperature outside!  What is the probability distribution for temperature, given that we observe people biking?\n",
    "\n",
    "First, compute this using your `get_prob` function. Store the probability for each temperature in the corresponding variable of `p2cold`, `p2moderate`, and `p2warm`, respectively."
   ]
  },
  {
   "cell_type": "code",
   "execution_count": 21,
   "metadata": {
    "deletable": false,
    "nbgrader": {
     "cell_type": "code",
     "checksum": "2bb54f631dcaae3bb8b9ebcc2e393003",
     "grade": false,
     "grade_id": "p2c-code",
     "locked": false,
     "schema_version": 3,
     "solution": true,
     "task": false
    }
   },
   "outputs": [],
   "source": [
    "# Your solution goes here\n",
    "\n",
    "p2cold = get_prob(bnRide.find_node(\"Temp\"),{\"Temp\":c,\"Bike\":T},bnRide)\n",
    "p2moderate = get_prob(bnRide.find_node(\"Temp\"),{\"Temp\":m,\"Bike\":T},bnRide)\n",
    "p2warm = get_prob(bnRide.find_node(\"Temp\"),{\"Temp\":w,\"Bike\":T},bnRide)\n",
    "\n"
   ]
  },
  {
   "cell_type": "markdown",
   "metadata": {
    "deletable": false,
    "editable": false,
    "nbgrader": {
     "cell_type": "markdown",
     "checksum": "95c08d402bcd8e0f4ed01c8007e01304",
     "grade": false,
     "grade_id": "p2c-test-header",
     "locked": true,
     "schema_version": 3,
     "solution": false,
     "task": false
    }
   },
   "source": [
    "### (2c) Tests"
   ]
  },
  {
   "cell_type": "code",
   "execution_count": 22,
   "metadata": {
    "deletable": false,
    "editable": false,
    "nbgrader": {
     "cell_type": "code",
     "checksum": "d1f5cd0a33154a798216e4d1c87362ec",
     "grade": true,
     "grade_id": "p2c-tests",
     "locked": true,
     "points": 5,
     "schema_version": 3,
     "solution": false,
     "task": false
    }
   },
   "outputs": [
    {
     "name": "stdout",
     "output_type": "stream",
     "text": [
      "Tests passed, 5 points\n"
     ]
    }
   ],
   "source": [
    "## BEGIN TESTS\n",
    "assert (np.isclose(p2cold, 0.233, atol=0.002)), \"P(T=c|B=True) = 0.233, your code returned %f\" % p2cold\n",
    "assert (np.isclose(p2moderate, 0.667, atol=0.002)), \"P(T=m|B=True) = 0.667, your code returned %f\" % p2moderate\n",
    "assert (np.isclose(p2warm, 0.099, atol=0.002)), \"P(T=w|B=True) = 0.099, your code returned %f\" % p2warm\n",
    "\n",
    "print(\"Tests passed, 5 points\")\n",
    "## END TESTS"
   ]
  },
  {
   "cell_type": "markdown",
   "metadata": {
    "deletable": false,
    "editable": false,
    "nbgrader": {
     "cell_type": "markdown",
     "checksum": "e516e8ff9c00c52e0c967629b804308e",
     "grade": false,
     "grade_id": "p2d-prompt",
     "locked": true,
     "schema_version": 3,
     "solution": false,
     "task": false
    }
   },
   "source": [
    "<a id='p2d'></a>\n",
    "[Back to top](#top)\n",
    "\n",
    "## (2d) - 8 points\n",
    "\n",
    "Confirm your answer to **2c** by hand, showing *all* relevant work below in a LateX/Markdown cell."
   ]
  },
  {
   "cell_type": "markdown",
   "metadata": {
    "deletable": false,
    "nbgrader": {
     "cell_type": "markdown",
     "checksum": "91c106505dd92e01193eb3018eb7c463",
     "grade": true,
     "grade_id": "p2d-answer",
     "locked": false,
     "points": 8,
     "schema_version": 3,
     "solution": true,
     "task": false
    }
   },
   "source": [
    "X = Temp\\\n",
    "E = {\"Bike\": T}\\\n",
    "Hidden vars ={Rain}\\\n",
    "P(Temp) = $\\alpha_{Temp}\\sum_{Rain} $P(Bike:T | Temp, Rain) P(Temp) P(Rain) \n",
    "\n",
    "\n",
    "\n",
    "| Temp | Rain | $\\texttt{P(Temp) P(Rain) P(Bike:T | Temp, Rain) }$ |\n",
    "|-----|-------|------|\n",
    "|c |n|(.30)(.8)(.7)=.168|\n",
    "|c |l|(.30)(.15)(.4)=.018|\n",
    "|c |h|(.30)(.05)(.2)=.003|\n",
    "|m |n|(.60)(.8)(.99)=.4752|\n",
    "|m |l|(.60)(.15)(.6)=.054|\n",
    "|m |h|(.60)(.05)(.4)=.012|\n",
    "|w |n|(.10)(.8)(.9)=.072|\n",
    "|w |l|(.10)(.15)(.5)=.0075|\n",
    "|w |h|(.10)(.05)(.3)=.0015|\n",
    "\n",
    "Than we sum each rows pertaining the temperatures state we sum for c,m,w:\n",
    "   - P(Temp: c) $= .168+.018+.003= .189$\n",
    "   - P(Temp: m) $= .4752+.054+.012= .5412$\n",
    "   - P(Temp: w) $= .072+.0075+.0015= .081$\n",
    "   \n",
    "   \n",
    "However we have to normalize since they do not add up to 1:\n",
    "   - $total= \\sum_{i=c,m,w} P(Temp_i | Bike: T) = .189+.5412+.081=.8112$\n",
    "   - P(Temp: c) $=\\frac{.189}{total}=\\frac{.189}{.8112}=.23299 $\n",
    "   - P(Temp: m) $=\\frac{.5412}{total}=\\frac{.5412}{.8112}=.66716$\n",
    "   - P(Temp: w) $=\\frac{.081}{total}=\\frac{.081}{.8112}=.09985$\n",
    "   \n",
    "Which match 2c answers"
   ]
  },
  {
   "cell_type": "markdown",
   "metadata": {
    "deletable": false,
    "editable": false,
    "nbgrader": {
     "cell_type": "markdown",
     "checksum": "d2f89cc06188e14463946aef2df2a071",
     "grade": false,
     "grade_id": "p2e-text",
     "locked": true,
     "schema_version": 3,
     "solution": false,
     "task": false
    }
   },
   "source": [
    "<a id='p2e'></a>\n",
    "[Back to top](#top)\n",
    "\n",
    "## (2e) - 7 points\n",
    "\n",
    "Finally, confirm your confirmation of the probability distribution for `Temp` by using approximate Bayesian computation and 10,000 samples.  That is, use the **prior sampling** and **\"rejection sampling\"** techniques from class to estimate the probabilities associated with each possible value for `Temp`, given that there are people biking outside. \n",
    "\n",
    "Repeat this calculation at least 10 times and display the results in a way that makes sense for the reader. Write a few sentences about your observations."
   ]
  },
  {
   "cell_type": "code",
   "execution_count": 23,
   "metadata": {
    "deletable": false,
    "nbgrader": {
     "cell_type": "code",
     "checksum": "0f4061e6dddd08c26936af4cbc0ce52a",
     "grade": false,
     "grade_id": "p2e-code",
     "locked": false,
     "schema_version": 3,
     "solution": true,
     "task": false
    }
   },
   "outputs": [
    {
     "name": "stdout",
     "output_type": "stream",
     "text": [
      "(Final) Iteration 10000: \n",
      "Estimate P(T=c|B=True): 0.23257818271361733\n",
      "Estimate P(T=m|B=True): 0.6673233193794632\n",
      "Estimate P(T=w|B=True): 0.10009849790691948\n"
     ]
    }
   ],
   "source": [
    "# TODO:\n",
    "# - Sample from priors\n",
    "# - Sample from distribution of Bike, given the parents\n",
    "# - Estimate P(T=c|B=True)\n",
    "# - Estimate P(T=m|B=True)\n",
    "# - Estimate P(T=w|B=True)\n",
    "# - Repeat above and record results\n",
    "\n",
    "# YOUR CODE HERE\n",
    "#prior sampling\n",
    "def priorSamps():\n",
    "    #for rain\n",
    "    rainChoice= np.random.choice([n,l,h],p=[.8,.15,.05])\n",
    "    #for temp\n",
    "    tempChoice= np.random.choice([c,m,w],p=[.3,.6,.1])\n",
    "    return rainChoice,tempChoice\n",
    "def bikeSamp():\n",
    "    r_C,t_C = priorSamps()\n",
    "    X=bnRide.find_node(\"Bike\")\n",
    "    bikeProb= X.cpt[(r_C,t_C)] #cpt only used for condition probability table to lazy to write\n",
    "    b_C= np.random.choice([T,F],p=[bikeProb,1-bikeProb])\n",
    "    return r_C,t_C,b_C\n",
    "\n",
    "def runSim(n,verbose=False):\n",
    "    countTemp_c =0\n",
    "    countTemp_m =0\n",
    "    countTemp_w =0\n",
    "    countBike = 0 #for how many trues \n",
    "    #est_c=countTemp_c/n\n",
    "    #est_m=countTemp_m/n\n",
    "    #est_w=countTemp_w/n\n",
    "    for i in range(n):\n",
    "        r_C,t_C,b_C=bikeSamp()\n",
    "        #while(b_C== F): #dont care when bike is False\n",
    "        #    r_C,t_C,b_C=bikeSamp()\n",
    "        if(t_C == c and b_C == T):\n",
    "            countTemp_c +=1\n",
    "            countBike+=1\n",
    "        elif(t_C == m and b_C == T):\n",
    "            countTemp_m +=1\n",
    "            countBike+=1\n",
    "        elif(t_C == w and b_C == T):\n",
    "            countTemp_w +=1\n",
    "            countBike+=1\n",
    "        #update each one as n increases\n",
    "        est_c=countTemp_c/countBike\n",
    "        est_m=countTemp_m/countBike\n",
    "        est_w=countTemp_w/countBike\n",
    "        if(verbose):\n",
    "            if((i+1)%100==0): #+1 for index iterations from 1 \n",
    "                print(\"Iteration \"+str(i+1)+\": \")\n",
    "                print(\"Estimate P(T=c|B=True): \"+str(est_c))\n",
    "                print(\"Estimate P(T=m|B=True): \"+str(est_m))\n",
    "                print(\"Estimate P(T=w|B=True): \"+str(est_w))\n",
    "    assert(countTemp_c+countTemp_m+countTemp_w==countBike)\n",
    "    print(\"(Final) Iteration \"+str(n)+\": \")\n",
    "    print(\"Estimate P(T=c|B=True): \"+str(est_c))\n",
    "    print(\"Estimate P(T=m|B=True): \"+str(est_m))\n",
    "    print(\"Estimate P(T=w|B=True): \"+str(est_w))\n",
    "    return countBike/n #get just estimate of riding bike for unit test\n",
    "p2e = runSim(10000)"
   ]
  },
  {
   "cell_type": "markdown",
   "metadata": {
    "deletable": false,
    "editable": false,
    "nbgrader": {
     "cell_type": "markdown",
     "checksum": "b32b81d4a0a1f54e6549f3ab13cbcf65",
     "grade": false,
     "grade_id": "p2e-reflection-prompt",
     "locked": true,
     "schema_version": 3,
     "solution": false,
     "task": false
    }
   },
   "source": [
    "Your observations go below. How do these compare to your calculation in the last part? How do the estimates change between repetitions?"
   ]
  },
  {
   "cell_type": "markdown",
   "metadata": {
    "deletable": false,
    "nbgrader": {
     "cell_type": "markdown",
     "checksum": "05a5142ffa7eb6c93e02ac9f2b05d376",
     "grade": true,
     "grade_id": "p2e-reflection",
     "locked": false,
     "points": 7,
     "schema_version": 3,
     "solution": true,
     "task": false
    }
   },
   "source": [
    "These samples seem to be pretty close to the calculations in the last part. I knew from my data science class a descent amount about simulation so I knew I should have a descently sized n. As n increase the estimates climb closer to their true value. I left a parameter in my runSim function(verbose) if set to true in that prints the estimates every 100th sample to demonstrate this."
   ]
  },
  {
   "cell_type": "markdown",
   "metadata": {
    "deletable": false,
    "editable": false,
    "nbgrader": {
     "cell_type": "markdown",
     "checksum": "849922ce0f6ca7a057f55665808bf9d6",
     "grade": false,
     "grade_id": "p-bike-text",
     "locked": true,
     "schema_version": 3,
     "solution": false,
     "task": false
    }
   },
   "source": [
    "As a \"Unit Test\", check what the probability of riding your bike is, given no other information.  Make sure this approximately matches your answer to **2b**."
   ]
  },
  {
   "cell_type": "code",
   "execution_count": 24,
   "metadata": {
    "deletable": false,
    "nbgrader": {
     "cell_type": "code",
     "checksum": "c4c1eef1f0dbd88a2d0f336feb95f27b",
     "grade": false,
     "grade_id": "p-bike",
     "locked": false,
     "schema_version": 3,
     "solution": true,
     "task": false
    }
   },
   "outputs": [
    {
     "name": "stdout",
     "output_type": "stream",
     "text": [
      "From above simulation probability of riding bike with no other information is 0.8122\n"
     ]
    }
   ],
   "source": [
    "# Solution (not graded):\n",
    "\n",
    "print(\"From above simulation probability of riding bike with no other information is \"+str(p2e))\n",
    "assert (np.isclose(p2e, 0.811, atol=0.05)), \"P(Bike) = 0.811, your code returned %f\" % p2a5\n"
   ]
  },
  {
   "cell_type": "markdown",
   "metadata": {
    "deletable": false,
    "editable": false,
    "nbgrader": {
     "cell_type": "markdown",
     "checksum": "b4b1ea1e58e29b8239f16b1aed79db82",
     "grade": false,
     "grade_id": "fin",
     "locked": true,
     "schema_version": 3,
     "solution": false,
     "task": false
    }
   },
   "source": [
    "[Back to top](#top)"
   ]
  }
 ],
 "metadata": {
  "kernelspec": {
   "display_name": "Python 3",
   "language": "python",
   "name": "python3"
  },
  "language_info": {
   "codemirror_mode": {
    "name": "ipython",
    "version": 3
   },
   "file_extension": ".py",
   "mimetype": "text/x-python",
   "name": "python",
   "nbconvert_exporter": "python",
   "pygments_lexer": "ipython3",
   "version": "3.7.4"
  },
  "toc": {
   "base_numbering": 1,
   "nav_menu": {},
   "number_sections": false,
   "sideBar": true,
   "skip_h1_title": false,
   "title_cell": "Table of Contents",
   "title_sidebar": "Contents",
   "toc_cell": false,
   "toc_position": {
    "height": "calc(100% - 180px)",
    "left": "10px",
    "top": "150px",
    "width": "259.797px"
   },
   "toc_section_display": true,
   "toc_window_display": true
  },
  "varInspector": {
   "cols": {
    "lenName": 16,
    "lenType": 16,
    "lenVar": 40
   },
   "kernels_config": {
    "python": {
     "delete_cmd_postfix": "",
     "delete_cmd_prefix": "del ",
     "library": "var_list.py",
     "varRefreshCmd": "print(var_dic_list())"
    },
    "r": {
     "delete_cmd_postfix": ") ",
     "delete_cmd_prefix": "rm(",
     "library": "var_list.r",
     "varRefreshCmd": "cat(var_dic_list()) "
    }
   },
   "types_to_exclude": [
    "module",
    "function",
    "builtin_function_or_method",
    "instance",
    "_Feature"
   ],
   "window_display": false
  }
 },
 "nbformat": 4,
 "nbformat_minor": 2
}
